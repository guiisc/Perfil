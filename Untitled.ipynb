{
 "cells": [
  {
   "cell_type": "code",
   "execution_count": 4,
   "id": "numerical-running",
   "metadata": {},
   "outputs": [],
   "source": [
    "import numpy as np\n",
    "import pandas as pd\n",
    "import json"
   ]
  },
  {
   "cell_type": "code",
   "execution_count": 74,
   "id": "sapphire-company",
   "metadata": {},
   "outputs": [],
   "source": [
    "# pd.read_json('perguntas.json', )\n",
    "perfil =  json.load(open('perguntas.json'))"
   ]
  },
  {
   "cell_type": "code",
   "execution_count": null,
   "id": "unexpected-performer",
   "metadata": {},
   "outputs": [],
   "source": [
    "import numpy as np\n",
    "\n",
    "for i in range(len(perfil), 0, -1):\n",
    "    carta = perfil.pop(np.random.randint(0, i, 1)[0])\n",
    "    print('carta:',carta['dica'], 'id:', carta['id'])\n",
    "    if np.random.random(1) >= 0.95:\n",
    "        pos_palpite = np.random.randint(1, 20, 1)[0]\n",
    "        carta['{0}'.format(pos_palpite)] = 'Palpite a qualquer hora'\n",
    "    if np.random.random(1) >= 0.65:\n",
    "        pos_perde_vez = np.random.randint(1, 20, 1)[0]\n",
    "        carta['{0}'.format(pos_perde_vez)] = 'Perde a vez'"
   ]
  }
 ],
 "metadata": {
  "kernelspec": {
   "display_name": "python 3.9",
   "language": "python",
   "name": "python3"
  },
  "language_info": {
   "codemirror_mode": {
    "name": "ipython",
    "version": 3
   },
   "file_extension": ".py",
   "mimetype": "text/x-python",
   "name": "python",
   "nbconvert_exporter": "python",
   "pygments_lexer": "ipython3",
   "version": "3.9.0"
  }
 },
 "nbformat": 4,
 "nbformat_minor": 5
}
